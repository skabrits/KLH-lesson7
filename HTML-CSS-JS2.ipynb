{
 "cells": [
  {
   "cell_type": "markdown",
   "id": "8415c181",
   "metadata": {},
   "source": [
    "# Ранбук по теме HTML CSS and JS p1"
   ]
  },
  {
   "cell_type": "markdown",
   "id": "bc89d9a3",
   "metadata": {},
   "source": [
    "## HTML"
   ]
  },
  {
   "cell_type": "markdown",
   "id": "1954e75f",
   "metadata": {},
   "source": [
    "### Основные элементы HTML\n",
    "\n",
    "Для текста используется"
   ]
  }
 ],
 "metadata": {
  "kernelspec": {
   "display_name": "Python 3 (ipykernel)",
   "language": "python",
   "name": "python3"
  },
  "language_info": {
   "codemirror_mode": {
    "name": "ipython",
    "version": 3
   },
   "file_extension": ".py",
   "mimetype": "text/x-python",
   "name": "python",
   "nbconvert_exporter": "python",
   "pygments_lexer": "ipython3",
   "version": "3.7.9"
  }
 },
 "nbformat": 4,
 "nbformat_minor": 5
}
